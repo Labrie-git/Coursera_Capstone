{
 "cells": [
  {
   "cell_type": "markdown",
   "metadata": {},
   "source": [
    "## Capstone Project - The Battle of the Neighborhoods (Week1) \n",
    "**Applied Data Science Capstone by IBM/Coursera Table of contents**\n",
    "\n",
    "### 1.[Introduction: Business Problem](#introduction)\n",
    "### 2.[Datasets](#data)\n",
    "### 3.[Methodology](#methodology)\n",
    "### 4.[Analysis](analysis)\n",
    "### 5.[Results and Discussion](#results)\n",
    "### 6.[Conclusion](#conclusion)"
   ]
  },
  {
   "cell_type": "markdown",
   "metadata": {},
   "source": [
    "### 1.Introduction: Business Problem <a name=\"introduction\"></a>\n",
    "\n",
    "Paris, capital of France, is one of the most important and influential cities in the world. In terms of tourism, Paris is the second most visited city in Europe. \n",
    "\n",
    "The purpose of this project is to provide potential investors the best decisions possible to open a hotel in Paris, France. \n",
    "\n",
    "In Paris, like in the most of the western big cities of Europe, the coronavirus(Covid-19) has a significant impact on tourism market or real estate & property market, but despite this situation, a large number of firms & their analysts believe that the tourism market could make a recovery by 2022.\n",
    "\n",
    "Regarding our project, to make an optimal recommendation for the site selection for a hotel, we will explore and answer the following questions:\n",
    "\n",
    "1. How does location influence to open an hotel property ? \n",
    "\n",
    "2. How close it is the potential location to the top attractions? \n",
    "\n",
    "The secondary criteria for the site selection will be also the availability of restaurants, bars and accessibility to public transport and parking\n",
    "\n",
    "Finally, we use our data science knowledge using Machine Learning to generate the best option of district based on these criteria. \n",
    "\n",
    "In order to solve this business problem, we will cluster the Paris areas based on the distance to the attractions and the amenities, i.e. transport, restaurants, bars. We will then compare these clusters with the average for each cluster. This will provide valuable information on whether a location is a viable choice for investors.\n",
    "\n",
    "Advantages of each area will then be clearly expressed so that best possible final location can be chosen by stakeholders.\n",
    "\n"
   ]
  },
  {
   "cell_type": "markdown",
   "metadata": {},
   "source": [
    "### 2.Datasets <a name=\"data\"></a>\n",
    "Paris is divided in 20 districts (Arrondissements).  Each districts has its own postal code, starting at 75001 to 75020 and corresponding to district 1 through 20.\n",
    "\n",
    "The  Postal code dataset was downloaded from the datanova.laposte.fr website (French postal service).\n",
    "The json file named laposte_hexasmal was read and used for this analysis.\n",
    "\n",
    "A geojson file for the limits of each district was also downloaded from https://www.data.gouv.fr/fr/datasets/arrondissements-1/\n",
    "\n",
    "The FourSquare API will be used to access and explore venues and amenities based on the Latitude and Longitude collected using the json file from datanova.laposte.fr website (laposte_hexasmal.json), which will then be read into a dataframe for data wrangling and cleaning.\n",
    "\n",
    "Based on definition of our problem, factors that will influence our decission are:\n",
    "\n",
    " - number of existing hotels in the neighborhood (any type of hotel category)\n",
    " - distance from potential location to the top attractions in paris\n",
    "    \n",
    "Also, the top attractions are taken from www.tripadvisor.com are:\n",
    " - Musee d’Orsay \n",
    " - Sainte-Chapelle \n",
    " - Palais Garnier — Opera\n",
    " - Notre Dame Cathedral\n",
    " - Musee de l’Orangerie\n",
    " - Luxembourg Gardens\n",
    " - Louvre\n",
    " - Eiffel\n",
    " - Pont Alexandre III\n",
    " - Le Marais\n",
    "\n",
    "In order to define our potential locations, we decided to use the center of each districts.\n"
   ]
  },
  {
   "cell_type": "markdown",
   "metadata": {},
   "source": [
    "### 3.Methodology<a name=\"methodology\"></a>\n",
    "In this project we will focus to make an optimal recommendation for the site selection of a hotel. \n",
    "\n",
    "My master data will have the main components: list of districts, location of attractions, Latitude and Longitude informations of the city.\n",
    "\n",
    "We will have to collect the required data of every hotels within around our potential locations, the distance from our potential locations to top attractions in Paris, the availability of restaurants, bars and accessibility to public transport and parking. We will clean and select the features we are interested in.\n",
    "\n",
    "In our analysis will do the calculation and exploration of venues across each districts of Paris.\n",
    " - We will used python folium library to visualize geographic details of Paris.\n",
    " - We will utilize the Foursquare API to explore the districts and segment them.\n",
    " - We will analyze the link between the number of hotels and the distance to attractions (heatmaps, regreassion...) to help focus our attention on ideal areas\n",
    " - We will used unsupervised learning K-means algorithm to cluster the districts.\n",
    " - We will present map all potential locations but also create clusters (using k-means clustering) to identify the optimal recommendation for the site.\n",
    " - We will used also, GitHub as our repository."
   ]
  },
  {
   "cell_type": "markdown",
   "metadata": {},
   "source": []
  },
  {
   "cell_type": "code",
   "execution_count": null,
   "metadata": {},
   "outputs": [],
   "source": []
  }
 ],
 "metadata": {
  "kernelspec": {
   "display_name": "Python 3",
   "language": "python",
   "name": "python3"
  },
  "language_info": {
   "codemirror_mode": {
    "name": "ipython",
    "version": 3
   },
   "file_extension": ".py",
   "mimetype": "text/x-python",
   "name": "python",
   "nbconvert_exporter": "python",
   "pygments_lexer": "ipython3",
   "version": "3.8.3"
  }
 },
 "nbformat": 4,
 "nbformat_minor": 4
}
